{
 "cells": [
  {
   "cell_type": "code",
   "execution_count": 59,
   "metadata": {},
   "outputs": [
    {
     "name": "stdout",
     "output_type": "stream",
     "text": [
      "1.8724125722809681 32.40564623178784\n",
      "Die Zeit wird berechnet und ergibt sich aus der Summe der System und Benutzer-CPU-Zeit...\n",
      "0.0029993057250976562\n",
      "Die Erzeugung von 1000 Zufallszahlen zwischen 0 und  1000  + Sortierung dauert:  0.0\n",
      "Die Erzeugung von 10000 Zufallszahlen zwischen 0 und  10000  + Sortierung dauert:  0.008005142211914062\n",
      "Die Erzeugung von 100000 Zufallszahlen zwischen 0 und  100000  + Sortierung dauert:  0.09800076484680176\n"
     ]
    },
    {
     "data": {
      "image/png": "[encoded data removed]",
      "text/plain": [
       "<Figure size 432x288 with 1 Axes>"
      ]
     },
     "metadata": {
      "needs_background": "light"
     },
     "output_type": "display_data"
    }
   ],
   "source": [
    "import numpy as np\n",
    "import pandas as pd\n",
    "import matplotlib\n",
    "import matplotlib.pyplot as plt\n",
    "import time\n",
    "import random\n",
    "\n",
    "# Funktionswerte auf Basis der berechneten m und b Werte berechnen\n",
    "def predict(x):\n",
    "    return m*x + b\n",
    "\n",
    "def calculate_time(numbers):\n",
    "    start = time.time()    \n",
    "    X = random_numbers = random.sample(range(numbers), numbers)\n",
    "    X.sort()\n",
    "    end = time.time()\n",
    "    print(\"Die Erzeugung von\", numbers, \"Zufallszahlen zwischen 0 und \", numbers, \" + Sortierung dauert: \", (end - start))\n",
    "    \n",
    "\n",
    "# Globalstrahlungsdaten einlesen (Potsdam Januar 10.01.2021 07:00 UTC - 9:00 UTC)\n",
    "global_strahlung_pdm_data = pd.read_csv('globalstrahlung.csv')\n",
    "\n",
    "# Daten konvertieren\n",
    "X = global_strahlung_pdm_data['G'].astype('int')\n",
    "Y = global_strahlung_pdm_data['time'].astype('int')\n",
    "\n",
    "# Testausgabe\n",
    "plt.scatter(X,Y);\n",
    "\n",
    "# m zu 'Fuß' berechnen\n",
    "m = (len(X) * np.sum(X*Y) - np.sum(X) * np.sum(Y)) / (len(X)*np.sum(X*X) - np.sum(X) ** 2)\n",
    "\n",
    "\n",
    "# b zu 'Fuß' berechnen\n",
    "b = (np.sum(Y) - m *np.sum(X)) / len(X)\n",
    "\n",
    "# Ausgabe von m und b\n",
    "print(m,b)\n",
    "\n",
    "#Start der Zeitmessung\n",
    "start = time.time()\n",
    "\n",
    "# Regressionsgerade mit berechneten m und b darstellen\n",
    "vec = np.arange(70)\n",
    "plt.scatter(X,Y)\n",
    "plt.plot(vec,predict(vec))\n",
    "\n",
    "#Ende der Zeitmessung\n",
    "end = time.time()\n",
    "\n",
    "#Summe aus System und Benutzer-CPU-Zeit \n",
    "print(\"Die Zeit wird berechnet und ergibt sich aus der Summe der System und Benutzer-CPU-Zeit...\")\n",
    "print(end - start)\n",
    "\n",
    "calculate_time(1000)\n",
    "calculate_time(10000)\n",
    "calculate_time(100000)"
   ]
  },
  {
   "cell_type": "code",
   "execution_count": 2,
   "metadata": {},
   "outputs": [
    {
     "name": "stdout",
     "output_type": "stream",
     "text": [
      "         time   G   avgG  stdG   D   avgD  stdD\n",
      "0    07:09:00   0   0.45  0.50   0   0.45  0.50\n",
      "1    07:10:00   1   0.55  0.50   1   0.55  0.50\n",
      "2    07:11:00   1   0.64  0.48   1   0.64  0.48\n",
      "3    07:12:00   1   0.73  0.45   1   0.73  0.45\n",
      "4    07:13:00   1   0.82  0.39   1   0.82  0.39\n",
      "..        ...  ..    ...   ...  ..    ...   ...\n",
      "135  09:24:00  64  64.45  2.50  64  64.45  2.50\n",
      "136  09:25:00  65  65.36  3.44  65  65.36  3.44\n",
      "137  09:26:00  65  66.00  3.93  65  66.00  3.93\n",
      "138  09:27:00  65  66.91  4.48  65  66.91  4.48\n",
      "139  09:28:00  68  68.27  4.45  68  68.27  4.45\n",
      "\n",
      "[140 rows x 7 columns]\n"
     ]
    }
   ],
   "source": [
    "print(global_strahlung_pdm_data)"
   ]
  },
  {
   "cell_type": "code",
   "execution_count": null,
   "metadata": {},
   "outputs": [],
   "source": []
  }
 ],
 "metadata": {
  "kernelspec": {
   "display_name": "Python 3",
   "language": "python",
   "name": "python3"
  },
  "language_info": {
   "codemirror_mode": {
    "name": "ipython",
    "version": 3
   },
   "file_extension": ".py",
   "mimetype": "text/x-python",
   "name": "python",
   "nbconvert_exporter": "python",
   "pygments_lexer": "ipython3",
   "version": "3.8.3"
  }
 },
 "nbformat": 4,
 "nbformat_minor": 4
}
