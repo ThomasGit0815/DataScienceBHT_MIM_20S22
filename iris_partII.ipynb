{
 "cells": [
  {
   "cell_type": "code",
   "execution_count": 34,
   "metadata": {},
   "outputs": [
    {
     "name": "stdout",
     "output_type": "stream",
     "text": [
      "Counter({0: 20})\n",
      "0\n",
      "wahrscheinlich eine iris setosa\n",
      "\n",
      "Counter({1: 12, 2: 8})\n",
      "1\n",
      "wahrscheinlich eine iris versicolor\n",
      "\n",
      "Counter({2: 20})\n",
      "2\n",
      "wahrscheinlich eine iris virginica\n",
      "\n",
      "\n",
      "Das Beispiel:  [4.8, 2.5, 5.3, 2.4]  ist:\n",
      "Counter({2: 14, 1: 6})\n",
      "2\n",
      "wahrscheinlich eine iris virginica\n",
      "\n"
     ]
    }
   ],
   "source": [
    "import numpy as np\n",
    "from collections import Counter\n",
    "from sklearn import datasets\n",
    "\n",
    "# Iris Datensatz einlesen \n",
    "iris_dataset = datasets.load_iris()\n",
    "iris_data = iris_dataset.data\n",
    "iris_label = iris_dataset.target\n",
    "\n",
    "# Distanz berechnen\n",
    "def distance(inst1, inst2):\n",
    "    return np.linalg.norm(np.subtract(inst1, inst2))\n",
    "\n",
    "# Berechnung der Distanz über alle Datensätze\n",
    "def neighbors(training_set,\n",
    "                  labels,\n",
    "                  test_instance,\n",
    "                  k,\n",
    "                  distancefunc):\n",
    "    distances = []\n",
    "    for index in range(len(training_set)):\n",
    "        dist = distancefunc(test_instance, training_set[index])\n",
    "        distances.append((training_set[index], dist, labels[index]))\n",
    "    distances.sort(key=lambda x: x[1])\n",
    "    neighbors = distances[:k]\n",
    "    return neighbors\n",
    "\n",
    "# Zusammenfssung der Gruppen\n",
    "def aggregate(neighbors):\n",
    "    class_counter = Counter()\n",
    "    for neighbor in neighbors:\n",
    "        class_counter[neighbor[2]] = class_counter[neighbor[2]] + 1\n",
    "    print(class_counter)\n",
    "    return class_counter.most_common(1)[0][0]\n",
    "\n",
    "def printIrisType(dataset):\n",
    "    values = neighbors(iris_data, iris_label, dataset, 150, distancefunc=distance)    \n",
    "    tmpTyp = np.max(aggregate(values[0:20]))\n",
    "    print(tmpTyp)\n",
    "    if tmpTyp == 0:\n",
    "        print(\"wahrscheinlich eine iris setosa\\n\")\n",
    "    if tmpTyp == 1:\n",
    "        print(\"wahrscheinlich eine iris versicolor\\n\")\n",
    "    if tmpTyp == 2:\n",
    "        print(\"wahrscheinlich eine iris virginica\\n\")\n",
    "    \n",
    "\n",
    "# 0 Example for Testing\n",
    "iris_setosa = [5.0,3.5,1.6,0.6]\n",
    "printIrisType(iris_setosa)\n",
    "\n",
    "# 1 Example for Testing\n",
    "iris_versicolor = [6.9,3.1,4.9,1.5]\n",
    "printIrisType(iris_versicolor)\n",
    "\n",
    "# 2 Example for Testing\n",
    "iris_virginica = [6.7,3.3,5.7,2.5]\n",
    "printIrisType(iris_virginica)\n",
    "\n",
    "# Beispiel aus Aufgabe 2\n",
    "iris_example = [4.8, 2.5, 5.3, 2.4]\n",
    "print(\"\\nDas Beispiel: \", iris_example, \" ist:\")\n",
    "printIrisType(iris_example)\n",
    "\n"
   ]
  },
  {
   "cell_type": "code",
   "execution_count": null,
   "metadata": {},
   "outputs": [],
   "source": []
  }
 ],
 "metadata": {
  "kernelspec": {
   "display_name": "Python 3",
   "language": "python",
   "name": "python3"
  },
  "language_info": {
   "codemirror_mode": {
    "name": "ipython",
    "version": 3
   },
   "file_extension": ".py",
   "mimetype": "text/x-python",
   "name": "python",
   "nbconvert_exporter": "python",
   "pygments_lexer": "ipython3",
   "version": "3.8.3"
  }
 },
 "nbformat": 4,
 "nbformat_minor": 4
}
