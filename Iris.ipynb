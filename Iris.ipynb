{
 "cells": [
  {
   "cell_type": "code",
   "execution_count": 30,
   "metadata": {},
   "outputs": [
    {
     "name": "stdout",
     "output_type": "stream",
     "text": [
      "[0 1]\n",
      "              precision    recall  f1-score   support\n",
      "\n",
      "           0       1.00      0.97      0.98       100\n",
      "           1       0.94      1.00      0.97        50\n",
      "\n",
      "    accuracy                           0.98       150\n",
      "   macro avg       0.97      0.98      0.98       150\n",
      "weighted avg       0.98      0.98      0.98       150\n",
      "\n",
      "Vorhersage ermitteln ob 4.8, 2.5, 5.3, 2.4 eine Virginica ist...\n",
      "[[0.00251601 0.99748399]]\n",
      "Ist 4.8, 2.5, 5.3, 2.4 eine Virginica?\n",
      "Ja es ist eine Virginica\n",
      "\n",
      "Ist 5.5,2.4,3.8,1.0 eine Versicolor?\n",
      "Nein, es ist keine Versicolor\n",
      "\n",
      "Ist 5.1, 3.5, 1.4, 0.2 eine Setosa?\n",
      "Nein, es ist keine Setosa\n",
      "\n"
     ]
    }
   ],
   "source": [
    "import numpy as np\n",
    "import pandas as pd\n",
    "from sklearn.linear_model import LogisticRegression\n",
    "from sklearn.metrics import classification_report\n",
    "\n",
    "# Iris CSV Daten einlesen\n",
    "iris_csv_data = pd.read_csv('iris.csv')\n",
    "\n",
    "# alle vier Datenspalten zuweisen\n",
    "X = iris_csv_data.iloc[:, 0:4]\n",
    "\n",
    "# 1 wenn Iris-Virginica und 0 wenn keine Iris-Virginica\n",
    "Y = (iris_csv_data[\"Class\"] == \"Iris-virginica\").astype(np.int64)\n",
    "\n",
    "# Model für Iris Erkennung trainieren\n",
    "iris_model = LogisticRegression(C=1.0, class_weight=None, dual=False, fit_intercept=True,\n",
    "                   intercept_scaling=1, l1_ratio=None, max_iter=300,\n",
    "                   n_jobs=None, penalty='l2',\n",
    "                   random_state=0, solver='liblinear', verbose=0).fit(X, Y)\n",
    "\n",
    "# Ausgabe der Classifier [ 0, 1 ]\n",
    "print(model.classes_)\n",
    "\n",
    "# Ausgabe zu precision, recall, f1-score und support\n",
    "print(classification_report(Y, iris_model.predict(X)))\n",
    "\n",
    "# Ist 4.8, 2.5, 5.3, 2.4 eine Virginica?\n",
    "print('Vorhersage ermitteln ob 4.8, 2.5, 5.3, 2.4 eine Virginica ist...')\n",
    "print(iris_model.predict_proba([[4.8, 2.5, 5.3, 2.4]]))\n",
    "\n",
    "print('Ist 4.8, 2.5, 5.3, 2.4 eine Virginica?')\n",
    "if iris_model.predict([[4.8, 2.5, 5.3, 2.4]]) == 1:\n",
    "    print('Ja es ist eine Virginica\\n')\n",
    "else:\n",
    "    print('Nein, es ist keine Virginica\\n')\n",
    "\n",
    "print('Ist 5.5,2.4,3.8,1.0 eine Versicolor?')\n",
    "if iris_model.predict(np.array([5.5,2.4,3.8,1.0]).reshape(1, -1)) == 1:\n",
    "    print('Ja es ist eine Versicolor\\n')\n",
    "else:\n",
    "    print('Nein, es ist keine Versicolor\\n')\n",
    "\n",
    "print('Ist 5.1, 3.5, 1.4, 0.2 eine Setosa?')\n",
    "\n",
    "if iris_model.predict(np.array([5.1, 3.5, 1.4, 0.2]).reshape(1, -1)) == 1:\n",
    "    print('Ja es ist eine Setosa\\n')\n",
    "else:\n",
    "    print('Nein, es ist keine Setosa\\n')  \n",
    "  \n"
   ]
  },
  {
   "cell_type": "code",
   "execution_count": null,
   "metadata": {},
   "outputs": [],
   "source": []
  }
 ],
 "metadata": {
  "kernelspec": {
   "display_name": "Python 3",
   "language": "python",
   "name": "python3"
  },
  "language_info": {
   "codemirror_mode": {
    "name": "ipython",
    "version": 3
   },
   "file_extension": ".py",
   "mimetype": "text/x-python",
   "name": "python",
   "nbconvert_exporter": "python",
   "pygments_lexer": "ipython3",
   "version": "3.8.3"
  }
 },
 "nbformat": 4,
 "nbformat_minor": 4
}
